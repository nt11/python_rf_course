{
 "cells": [
  {
   "cell_type": "code",
   "id": "initial_id",
   "metadata": {
    "collapsed": true,
    "ExecuteTime": {
     "end_time": "2024-10-06T15:24:31.207870Z",
     "start_time": "2024-10-06T15:24:31.202650Z"
    }
   },
   "source": [
    "print(\"Results\")\n",
    "print(\"-------\")\n",
    "print(\"Hello World\")\n",
    "a = 1\n",
    "print(a)\n",
    "b = \"Hello\"\n",
    "print(b)"
   ],
   "outputs": [
    {
     "name": "stdout",
     "output_type": "stream",
     "text": [
      "Results\n",
      "-------\n",
      "Hello World\n",
      "1\n",
      "Hello\n"
     ]
    }
   ],
   "execution_count": 27
  },
  {
   "metadata": {
    "ExecuteTime": {
     "end_time": "2024-10-06T15:25:54.878161Z",
     "start_time": "2024-10-06T15:25:54.869921Z"
    }
   },
   "cell_type": "code",
   "source": [
    "print(\"Results\")\n",
    "print(\"-------\")\n",
    "age = 18\n",
    "if age >= 18:\n",
    "    print(\"You are eligible to vote.\")\n",
    "else:\n",
    "    print(\"You are not eligible to vote yet.\")\n",
    "    "
   ],
   "id": "75817b46680cb2a5",
   "outputs": [
    {
     "name": "stdout",
     "output_type": "stream",
     "text": [
      "Results\n",
      "-------\n",
      "You are eligible to vote.\n"
     ]
    }
   ],
   "execution_count": 29
  },
  {
   "metadata": {
    "ExecuteTime": {
     "end_time": "2024-10-06T15:49:42.405263Z",
     "start_time": "2024-10-06T15:49:42.401368Z"
    }
   },
   "cell_type": "code",
   "source": [
    "acc = 0\n",
    "facto = 1\n",
    "for i in range(1,5):\n",
    "    acc+= i\n",
    "    facto= i * facto\n",
    "print(acc, facto)"
   ],
   "id": "149ddcb25ab7b099",
   "outputs": [
    {
     "name": "stdout",
     "output_type": "stream",
     "text": [
      "10 24\n"
     ]
    }
   ],
   "execution_count": 33
  },
  {
   "metadata": {
    "ExecuteTime": {
     "end_time": "2024-10-06T15:29:22.107810Z",
     "start_time": "2024-10-06T15:29:22.102815Z"
    }
   },
   "cell_type": "code",
   "source": [
    "print(\"Results\")\n",
    "print(\"-------\")\n",
    "score = 75\n",
    "\n",
    "if score >= 90:\n",
    "    print(\"You got an A.\")\n",
    "elif score >= 80:\n",
    "    print(\"You got a B.\")\n",
    "elif score >= 70:\n",
    "    print(\"You got a C.\")\n",
    "elif score >= 60:\n",
    "    print(\"You got a D.\")\n",
    "else:\n",
    "    print(\"You got an F.\")"
   ],
   "id": "eba959f7b12680db",
   "outputs": [
    {
     "name": "stdout",
     "output_type": "stream",
     "text": [
      "Results\n",
      "-------\n",
      "You got a C.\n"
     ]
    }
   ],
   "execution_count": 30
  },
  {
   "metadata": {
    "ExecuteTime": {
     "end_time": "2024-10-06T15:36:05.478208Z",
     "start_time": "2024-10-06T15:36:05.472031Z"
    }
   },
   "cell_type": "code",
   "source": [
    "print(\"Results\")\n",
    "print(\"-------\")\n",
    "age = 25\n",
    "height = 170  # in cm\n",
    "weight = 70   # in kg\n",
    "\n",
    "if age >= 18 and age <= 65:\n",
    "    print(\"You are of working age.\")\n",
    "\n",
    "if height > 150 and height < 190:\n",
    "    print(\"Your height is average.\")\n",
    "\n",
    "if weight >= 50 and weight <= 100:\n",
    "    print(\"Your weight is within a common range.\")\n",
    "\n",
    "if (age < 18) or (age > 65):\n",
    "    print(\"You are not of typical working age.\")\n",
    "\n",
    "if not (height <= 160):\n",
    "    print(\"You are taller than 160 cm.\")\n",
    "\n",
    "if (age > 20 and height >= 180) or (weight > 90):\n",
    "    print(\"You might be above average in age, height, or weight.\")"
   ],
   "id": "ff5501bc3ab112ae",
   "outputs": [
    {
     "name": "stdout",
     "output_type": "stream",
     "text": [
      "Results\n",
      "-------\n",
      "You are of working age.\n",
      "Your height is average.\n",
      "Your weight is within a common range.\n",
      "You are taller than 160 cm.\n"
     ]
    }
   ],
   "execution_count": 31
  },
  {
   "metadata": {
    "ExecuteTime": {
     "end_time": "2024-10-06T15:52:07.356878Z",
     "start_time": "2024-10-06T15:52:07.351119Z"
    }
   },
   "cell_type": "code",
   "source": [
    "print(\"Results\")\n",
    "print(\"-------\")\n",
    "# Basic usage: range(stop)\n",
    "print(\"Counting from 0 to 4:\")\n",
    "for i in range(5):\n",
    "    print(i, end=\" \")\n",
    "print()  # New line\n",
    "\n",
    "# Specifying start and stop: range(start, stop)\n",
    "print(\"\\nCounting from 2 to 6:\")\n",
    "for i in range(2, 7):\n",
    "    print(i, end=\" \")\n",
    "print()\n",
    "\n",
    "# Using step: range(start, stop, step)\n",
    "print(\"\\nCounting odd numbers from 1 to 10:\")\n",
    "for i in range(1, 11, 2):\n",
    "    print(i, end=\" \")\n",
    "print()\n",
    "\n",
    "# Counting backwards\n",
    "print(\"\\nCounting down from 5 to 1:\")\n",
    "for i in range(5, 0, -1):\n",
    "    print(i, end=\" \")\n",
    "print()"
   ],
   "id": "ac0484e0688cb165",
   "outputs": [
    {
     "name": "stdout",
     "output_type": "stream",
     "text": [
      "Results\n",
      "-------\n",
      "Counting from 0 to 4:\n",
      "0 1 2 3 4 \n",
      "\n",
      "Counting from 2 to 6:\n",
      "2 3 4 5 6 \n",
      "\n",
      "Counting odd numbers from 1 to 10:\n",
      "1 3 5 7 9 \n",
      "\n",
      "Counting down from 5 to 1:\n",
      "5 4 3 2 1 \n"
     ]
    }
   ],
   "execution_count": 37
  },
  {
   "metadata": {
    "ExecuteTime": {
     "end_time": "2024-10-06T16:12:46.237664Z",
     "start_time": "2024-10-06T16:12:46.234297Z"
    }
   },
   "cell_type": "code",
   "source": [
    "print(\"Results\")\n",
    "print(\"-------\")\n",
    "# Initialize a counter\n",
    "count = 0\n",
    "\n",
    "# Set up a while loop that runs as long as count is less than 5\n",
    "while count < 5:\n",
    "    print(\"Count is currently\", count, \". It is less than 5.\")\n",
    "    count += 1  # Increment the counter\n",
    "\n",
    "print(\"Loop has finished.\")"
   ],
   "id": "45be8fed9f062bfd",
   "outputs": [
    {
     "name": "stdout",
     "output_type": "stream",
     "text": [
      "Results\n",
      "-------\n",
      "Count is currently 0 . It is less than 5.\n",
      "Count is currently 1 . It is less than 5.\n",
      "Count is currently 2 . It is less than 5.\n",
      "Count is currently 3 . It is less than 5.\n",
      "Count is currently 4 . It is less than 5.\n",
      "Loop has finished.\n"
     ]
    }
   ],
   "execution_count": 41
  },
  {
   "metadata": {
    "ExecuteTime": {
     "end_time": "2024-10-06T16:21:58.218765Z",
     "start_time": "2024-10-06T16:21:58.213927Z"
    }
   },
   "cell_type": "code",
   "source": [
    "print(\"Results\")\n",
    "print(\"-------\")\n",
    "x = 10\n",
    "\n",
    "if x > 5:\n",
    "    print(\"x is greater than 5\")\n",
    "    if x < 8:\n",
    "        print(\"x is also less than 15\")\n",
    "    print(\"x is still greater than 5\")\n",
    "print(\"This line runs regardless of the value of x\")\n",
    "\n",
    "if x == 10:\n",
    "    print(\"x is equal to 10\")\n",
    "print(\"This line is not part of the if block\")"
   ],
   "id": "e162b4929a5bc4fd",
   "outputs": [
    {
     "name": "stdout",
     "output_type": "stream",
     "text": [
      "Results\n",
      "-------\n",
      "x is greater than 5\n",
      "x is still greater than 5\n",
      "This line runs regardless of the value of x\n",
      "x is equal to 10\n",
      "This line is not part of the if block\n"
     ]
    }
   ],
   "execution_count": 44
  },
  {
   "metadata": {
    "ExecuteTime": {
     "end_time": "2024-10-06T20:39:27.720405Z",
     "start_time": "2024-10-06T20:39:27.714070Z"
    }
   },
   "cell_type": "code",
   "source": [
    "print(\"Results\")\n",
    "print(\"-------\")\n",
    "# int(): Convert a string or float to an integer\n",
    "print(\"int():\")\n",
    "print(int(\"123\"))  # String to int\n",
    "print(int(45.67))  # Float to int\n",
    "print(int(\"-789\"))  # Negative string to int\n",
    "print()\n",
    "\n",
    "# abs(): Return the absolute value of a number\n",
    "print(\"abs():\")\n",
    "print(abs(-10))\n",
    "print(abs(10))\n",
    "print()\n",
    "\n",
    "# divmod(): Return quotient and remainder of division\n",
    "print(\"divmod():\")\n",
    "print(divmod(20, 3))  # (quotient, remainder)\n",
    "print(divmod(-20,3)) # Note the behavior with negative numbers\n",
    "print()\n",
    "\n",
    "# pow(): Raise a number to a power\n",
    "print(\"pow():\")\n",
    "print(pow(2, 3))  # 2^3\n",
    "print(pow(2, 3, 5))  # (2^3) % 5 (with modulus)\n",
    "print()\n",
    "\n",
    "# //: Integer division (floor division)\n",
    "print(\"// (Integer division):\")\n",
    "print(20 // 3)\n",
    "print(-20 // 3)  # Note the behavior with negative numbers\n",
    "print()\n",
    "\n",
    "# %: Modulo (remainder of division)\n",
    "print(\"% (Modulo):\")\n",
    "print(20 % 3)\n",
    "print(-20 % 3)  # Note the behavior with negative numbers\n",
    "print() \n",
    "\n",
    "# Normal Division\n",
    "\n",
    "print(\"/ Normal Division\")\n",
    "prprint(20/3)"
   ],
   "id": "f4b424c23933187f",
   "outputs": [
    {
     "name": "stdout",
     "output_type": "stream",
     "text": [
      "Results\n",
      "-------\n",
      "int():\n",
      "123\n",
      "45\n",
      "-789\n",
      "\n",
      "abs():\n",
      "10\n",
      "10\n",
      "\n",
      "divmod():\n",
      "(6, 2)\n",
      "(-7, 1)\n",
      "\n",
      "pow():\n",
      "8\n",
      "3\n",
      "\n",
      "// (Integer division):\n",
      "6\n",
      "-7\n",
      "\n",
      "% (Modulo):\n",
      "2\n",
      "1\n",
      "\n",
      "/ Normal Division\n",
      "6.666666666666667\n"
     ]
    }
   ],
   "execution_count": 50
  },
  {
   "metadata": {
    "ExecuteTime": {
     "end_time": "2024-10-07T08:45:34.286559Z",
     "start_time": "2024-10-07T08:45:34.256363Z"
    }
   },
   "cell_type": "code",
   "source": [
    "print(\"Results\")\n",
    "print(\"-------\")\n",
    "x = 5.0\n",
    "y = 5.5\n",
    "print(x.is_integer())  \n",
    "print(y.is_integer())  \n",
    "\n",
    "z = 3.25\n",
    "print(z.as_integer_ratio())  \n",
    "\n",
    "x = 3.14159\n",
    "print(round(x, 2))  \n",
    "\n",
    "y = -4.5\n",
    "print(abs(y))  \n",
    "\n",
    "import math\n",
    "z = 5.1\n",
    "print(math.ceil(z)) \n",
    "z = -6.1\n",
    "print(math.ceil(z))  \n",
    "\n",
    "import math\n",
    "a = 5.9\n",
    "print(math.floor(a))  \n",
    "a = -17.3\n",
    "print(math.floor(a))\n",
    "\n",
    "import math\n",
    "b = 3.7\n",
    "print(math.trunc(b))  \n",
    "b = -4.3\n",
    "print(math.trunc(b))  #\n"
   ],
   "id": "af2f42f8cee578d8",
   "outputs": [
    {
     "name": "stdout",
     "output_type": "stream",
     "text": [
      "Results\n",
      "-------\n",
      "True\n",
      "False\n",
      "(13, 4)\n",
      "3.14\n",
      "4.5\n",
      "6\n",
      "-6\n",
      "5\n",
      "-18\n",
      "3\n",
      "-4\n"
     ]
    }
   ],
   "execution_count": 52
  },
  {
   "metadata": {
    "ExecuteTime": {
     "end_time": "2024-10-07T09:09:04.039078Z",
     "start_time": "2024-10-07T09:09:04.025043Z"
    }
   },
   "cell_type": "code",
   "source": [
    "print(\"Results\")\n",
    "print(\"-------\")\n",
    "# upper() - Converts string to uppercase\n",
    "text = \"Hello, World!\"\n",
    "print(text.upper())\n",
    "\n",
    "# lower() - Converts string to lowercase\n",
    "text = \"Hello, World!\"\n",
    "print(text.lower())\n",
    "\n",
    "# strip() - Removes leading and trailing whitespace\n",
    "text = \"   Python   \"\n",
    "print(text.strip())\n",
    "\n",
    "# split() - Splits string into a list\n",
    "text = \"apple,banana,cherry\"\n",
    "print(text.split(\",\"))\n",
    "\n",
    "# join() - Joins list elements into a string\n",
    "words = [\"Hello\", \"World\"]\n",
    "print(\" \".join(words))\n",
    "\n",
    "# replace() - Replaces occurrences of a substring\n",
    "text = \"Hello, World!\"\n",
    "print(text.replace(\"World\", \"Python\"))"
   ],
   "id": "49f768330321a18b",
   "outputs": [
    {
     "name": "stdout",
     "output_type": "stream",
     "text": [
      "Results\n",
      "-------\n",
      "HELLO, WORLD!\n",
      "hello, world!\n",
      "Python\n",
      "['apple', 'banana', 'cherry']\n",
      "Hello World\n",
      "Hello, Python!\n"
     ]
    }
   ],
   "execution_count": 54
  },
  {
   "metadata": {
    "ExecuteTime": {
     "end_time": "2024-10-07T09:55:14.403424Z",
     "start_time": "2024-10-07T09:55:14.399489Z"
    }
   },
   "cell_type": "code",
   "source": [
    "l = ['a', 'b', 'c', 'd', 'e']\n",
    "m = l\n",
    "m[1] = 'z'\n",
    "print(m)\n",
    "print(l)"
   ],
   "id": "8e5c2e473934d10a",
   "outputs": [
    {
     "name": "stdout",
     "output_type": "stream",
     "text": [
      "['a', 'z', 'c', 'd', 'e']\n",
      "['a', 'z', 'c', 'd', 'e']\n"
     ]
    }
   ],
   "execution_count": 57
  },
  {
   "metadata": {
    "ExecuteTime": {
     "end_time": "2024-10-07T10:58:47.852965Z",
     "start_time": "2024-10-07T10:58:47.848014Z"
    }
   },
   "cell_type": "code",
   "source": [
    "#produce an example of indexing and slicing for lists\n",
    "print(\"Results\")\n",
    "print(\"-------\")\n",
    "# Indexing\n",
    "l = ['a', 'b', 'c', 'd', 'e']\n",
    "print(l[0])  # First element\n",
    "print(l[-1])  # Last element\n",
    "print(l[-2])  # Second to last element\n",
    "print()\n",
    "# Slicing\n",
    "l = ['a', 'b', 'c', 'd', 'e']\n",
    "print(l[1:3])  # Second and third elements\n",
    "print(l[:2])  # First two elements\n",
    "print(l[2:])  # Last three elements\n",
    "print(l[:])  # All elements\n",
    "print(l[:-1])  # All elements except the last\n",
    "print(l[::2])  # Every second element\n",
    "print(l[::-1])  # All elements in reverse order"
   ],
   "id": "fc13952b0874c76c",
   "outputs": [
    {
     "ename": "SyntaxError",
     "evalue": "closing parenthesis ')' does not match opening parenthesis '[' (1148138780.py, line 19)",
     "output_type": "error",
     "traceback": [
      "\u001B[0;36m  Cell \u001B[0;32mIn[59], line 19\u001B[0;36m\u001B[0m\n\u001B[0;31m    print(l[0:)\u001B[0m\n\u001B[0m              ^\u001B[0m\n\u001B[0;31mSyntaxError\u001B[0m\u001B[0;31m:\u001B[0m closing parenthesis ')' does not match opening parenthesis '['\n"
     ]
    }
   ],
   "execution_count": 59
  },
  {
   "metadata": {
    "ExecuteTime": {
     "end_time": "2024-10-07T11:30:38.889368Z",
     "start_time": "2024-10-07T11:30:38.884053Z"
    }
   },
   "cell_type": "code",
   "source": [
    "m = l * 3\n",
    "print(m)\n"
   ],
   "id": "61fa62b1bf47b7d7",
   "outputs": [
    {
     "name": "stdout",
     "output_type": "stream",
     "text": [
      "['a', 'b', 'c', 'd', 'e', 'a', 'b', 'c', 'd', 'e', 'a', 'b', 'c', 'd', 'e']\n"
     ]
    }
   ],
   "execution_count": 62
  },
  {
   "metadata": {
    "ExecuteTime": {
     "end_time": "2024-10-07T11:31:51.664334Z",
     "start_time": "2024-10-07T11:31:51.656558Z"
    }
   },
   "cell_type": "code",
   "source": [
    "m[0] = 'z'\n",
    "#m[5] = 'w'\n",
    "print(m)\n",
    "print(l)"
   ],
   "id": "c42ce304a6280bb7",
   "outputs": [
    {
     "name": "stdout",
     "output_type": "stream",
     "text": [
      "['z', 'b', 'c', 'd', 'e', 'w', 'b', 'c', 'd', 'e', 'a', 'b', 'c', 'd', 'e']\n",
      "['a', 'b', 'c', 'd', 'e']\n"
     ]
    }
   ],
   "execution_count": 69
  },
  {
   "metadata": {
    "ExecuteTime": {
     "end_time": "2024-10-07T12:00:26.483985Z",
     "start_time": "2024-10-07T12:00:26.470970Z"
    }
   },
   "cell_type": "code",
   "source": [
    "print(\"Results\")\n",
    "print(\"-------\")\n",
    "original = [1, 2, 3]\n",
    "repeated = original * 3 # List repetition\n",
    "print(repeated)\n",
    "\n",
    "empty_repeated = [] * 5 # Repeating an empty list\n",
    "print(empty_repeated)\n",
    "\n",
    "nested = [[0]] * 4 # Repeating a list with nested elements\n",
    "print(nested)\n",
    "\n",
    "list1 = [1, 2, 3]\n",
    "list2 = [4, 5, 6]\n",
    "concatenated = list1 + list2 # List concatenation using +\n",
    "print(concatenated)\n",
    "\n",
    "list3 = [7, 8, 9]\n",
    "multi_concat = list1 + list2 + list3 # Concatenating multiple lists\n",
    "print(multi_concat)\n",
    "\n",
    "original = [1, 2, 3]\n",
    "original += [4, 5] # In-place concatenation using +=\n",
    "print(original)\n",
    "\n",
    "result = [] + [1, 2, 3] # Concatenating with an empty list\n",
    "print(result)\n",
    "\n",
    "combined = [0, 1] * 3 + [2, 3] * 2 # Combining repetition and concatenation\n",
    "        print(combined)\n"
   ],
   "id": "89cde11f3d2af4e2",
   "outputs": [
    {
     "name": "stdout",
     "output_type": "stream",
     "text": [
      "Results\n",
      "-------\n",
      "[1, 2, 3, 1, 2, 3, 1, 2, 3]\n",
      "[]\n",
      "[[0], [0], [0], [0]]\n",
      "[1, 2, 3, 4, 5, 6]\n",
      "[1, 2, 3, 4, 5, 6, 7, 8, 9]\n",
      "[1, 2, 3, 4, 5]\n",
      "[1, 2, 3]\n",
      "[0, 1, 0, 1, 0, 1, 2, 3, 2, 3]\n"
     ]
    }
   ],
   "execution_count": 71
  },
  {
   "metadata": {
    "ExecuteTime": {
     "end_time": "2024-10-07T15:21:14.181147Z",
     "start_time": "2024-10-07T15:21:14.174828Z"
    }
   },
   "cell_type": "code",
   "source": [
    "print(\"Results\")\n",
    "print(\"-------\")\n",
    "# Basic iteration through a list\n",
    "fruits = ['apple', 'banana', 'cherry']\n",
    "for fruit in fruits:\n",
    "    print(fruit)\n",
    "\n",
    "# Modifying list elements in place\n",
    "numbers = [1, 2, 3, 4, 5]\n",
    "for i in range(len(numbers)):\n",
    "    numbers[i] = numbers[i] * 2\n",
    "print(numbers)\n",
    "\n",
    "# Performing operations on each item\n",
    "scores = [75, 82, 93, 68, 87]\n",
    "total = 0\n",
    "for score in scores:\n",
    "    total += score\n",
    "average = total / len(scores)\n",
    "print(\"Average score\", average)\n",
    "\n",
    "# Using range() to iterate a specific number of times\n",
    "for i in range(5):\n",
    "    print(\"iteration\", i)\n",
    "\n"
   ],
   "id": "4807391e9c7a6d9c",
   "outputs": [
    {
     "name": "stdout",
     "output_type": "stream",
     "text": [
      "Results\n",
      "-------\n",
      "apple\n",
      "banana\n",
      "cherry\n",
      "[2, 4, 6, 8, 10]\n",
      "Average score: 81.0\n",
      "iteration 0\n",
      "iteration 1\n",
      "iteration 2\n",
      "iteration 3\n",
      "iteration 4\n",
      "Index 0: apple\n",
      "Index 1: banana\n",
      "Index 2: cherry\n",
      "[1, 4, 9, 16, 25]\n",
      "1 2 3 \n",
      "4 5 6 \n",
      "7 8 9 \n",
      "[1, 3, 5]\n"
     ]
    }
   ],
   "execution_count": 73
  },
  {
   "metadata": {
    "ExecuteTime": {
     "end_time": "2024-10-07T15:21:51.508178Z",
     "start_time": "2024-10-07T15:21:51.506058Z"
    }
   },
   "cell_type": "code",
   "source": "",
   "id": "b4b765294401eb34",
   "outputs": [],
   "execution_count": null
  },
  {
   "metadata": {
    "ExecuteTime": {
     "end_time": "2024-10-07T15:33:42.735516Z",
     "start_time": "2024-10-07T15:33:42.730446Z"
    }
   },
   "cell_type": "code",
   "source": [
    "print(\"Results\")\n",
    "print(\"-------\")\n",
    "# Using enumerate() to access index and value\n",
    "fruits = ['apple', 'banana', 'cherry']\n",
    "for index, fruit in enumerate(fruits):\n",
    "    print(\"Index\", index, fruit)\n",
    "\n",
    "# Nested for loops with a 2D list\n",
    "matrix = [[1, 2, 3], [4, 5, 6], [7, 8, 9]]\n",
    "for row in matrix:\n",
    "    for item in row:\n",
    "        print(item, end=' ')\n",
    "    print()  # New line after each row\n",
    "\n",
    "# Modifying the original list (demonstrating reference behavior)\n",
    "numbers = [1, 2, 3, 4, 5]\n",
    "for num in numbers:\n",
    "    if num % 2 == 0:\n",
    "        numbers.remove(num)\n",
    "print(numbers)  # Note: This can lead to unexpected results\n",
    "\n"
   ],
   "id": "2ec7dcfbc50b35cf",
   "outputs": [
    {
     "name": "stdout",
     "output_type": "stream",
     "text": [
      "Results\n",
      "-------\n",
      "Index 0 apple\n",
      "Index 1 banana\n",
      "Index 2 cherry\n",
      "1 2 3 \n",
      "4 5 6 \n",
      "7 8 9 \n",
      "[1, 3, 5]\n"
     ]
    }
   ],
   "execution_count": 76
  },
  {
   "metadata": {
    "ExecuteTime": {
     "end_time": "2024-10-07T18:30:55.520438Z",
     "start_time": "2024-10-07T18:30:55.515419Z"
    }
   },
   "cell_type": "code",
   "source": [
    "print(\"Results\")\n",
    "print(\"-------\")\n",
    "# Create a sample list\n",
    "fruits = ['apple', 'banana', 'cherry', 'date']\n",
    "\n",
    "# append() - Adds an element to the end of the list\n",
    "fruits.append('tomato')\n",
    "print(fruits)\n",
    "\n",
    "# extend() - Adds all elements of an iterable to the end of the list\n",
    "more_fruits = ['fig', 'grape']\n",
    "fruits.extend(more_fruits)\n",
    "print(fruits)\n",
    "\n",
    "# insert() - Inserts an element at a specified position\n",
    "fruits.insert(2, 'blueberry')\n",
    "print(fruits)\n",
    "\n",
    "# remove() - Removes the first occurrence of a specified element\n",
    "fruits.remove('date')\n",
    "print(fruits)\n",
    "\n",
    "# pop() - Removes and returns an element at a specified position (or the last element if no index is specified)\n",
    "popped_fruit = fruits.pop(3)\n",
    "print(popped_fruit)\n",
    "print(fruits)\n",
    "\n"
   ],
   "id": "2a366ffb3c39262e",
   "outputs": [
    {
     "name": "stdout",
     "output_type": "stream",
     "text": [
      "Results\n",
      "-------\n",
      "['apple', 'banana', 'cherry', 'date', 'tomato']\n",
      "['apple', 'banana', 'cherry', 'date', 'tomato', 'fig', 'grape']\n",
      "['apple', 'banana', 'blueberry', 'cherry', 'date', 'tomato', 'fig', 'grape']\n",
      "['apple', 'banana', 'blueberry', 'cherry', 'tomato', 'fig', 'grape']\n",
      "cherry\n",
      "['apple', 'banana', 'blueberry', 'tomato', 'fig', 'grape']\n"
     ]
    }
   ],
   "execution_count": 85
  },
  {
   "metadata": {
    "ExecuteTime": {
     "end_time": "2024-10-07T18:30:58.927631Z",
     "start_time": "2024-10-07T18:30:58.922449Z"
    }
   },
   "cell_type": "code",
   "source": [
    "print(fruits)\n",
    "\n",
    "# index() - Returns the index of the first occurrence of a specified element\n",
    "banana_index = fruits.index('banana')\n",
    "print(banana_index)\n",
    "\n",
    "# count() - Returns the number of occurrences of a specified element\n",
    "fruit_count = fruits.count('apple')\n",
    "print(fruit_count)\n",
    "\n",
    "# sort() - Sorts the list in ascending order\n",
    "fruits.sort()\n",
    "print(fruits)\n",
    "\n",
    "# reverse() - Reverses the order of the list\n",
    "fruits.reverse()\n",
    "print(fruits)\n",
    "\n",
    "# clear() - Removes all elements from the list\n",
    "fruits.clear()\n",
    "print(fruits)\n"
   ],
   "id": "e5dbd338ca6c73e9",
   "outputs": [
    {
     "name": "stdout",
     "output_type": "stream",
     "text": [
      "['apple', 'banana', 'blueberry', 'tomato', 'fig', 'grape']\n",
      "1\n",
      "1\n",
      "['apple', 'banana', 'blueberry', 'fig', 'grape', 'tomato']\n",
      "['tomato', 'grape', 'fig', 'blueberry', 'banana', 'apple']\n",
      "[]\n",
      "[1, 2, 3]\n"
     ]
    }
   ],
   "execution_count": 86
  },
  {
   "metadata": {
    "ExecuteTime": {
     "end_time": "2024-10-07T19:06:23.715141Z",
     "start_time": "2024-10-07T19:06:23.710755Z"
    }
   },
   "cell_type": "code",
   "source": [
    "import copy\n",
    "\n",
    "print(\"Results\")\n",
    "print(\"-------\")\n",
    "# Original list with nested elements\n",
    "original = [1, [2, 3], [4, 5], \"hello\"]\n",
    "\n",
    "# Shallow copy\n",
    "shallow = original.copy()\n",
    "\n",
    "# Deep copy\n",
    "deep = copy.deepcopy(original)\n",
    "\n",
    "print(\"Original:\", original)\n",
    "print(\"Shallow copy:\", shallow)\n",
    "print(\"Deep copy:\", deep)\n",
    "\n",
    "# Modify the original list\n",
    "original[0] = 9\n",
    "original[1][0] = 8\n",
    "\n",
    "print(\"\\nAfter modifying original:\")\n",
    "print(\"Original:\", original)\n",
    "print(\"Shallow copy:\", shallow)\n",
    "print(\"Deep copy:\", deep)\n",
    "\n"
   ],
   "id": "8b11eca9e5390f3d",
   "outputs": [
    {
     "name": "stdout",
     "output_type": "stream",
     "text": [
      "Results\n",
      "-------\n",
      "Original: [1, [2, 3], [4, 5], 'hello']\n",
      "Shallow copy: [1, [2, 3], [4, 5], 'hello']\n",
      "Deep copy: [1, [2, 3], [4, 5], 'hello']\n",
      "\n",
      "After modifying original:\n",
      "Original: [9, [8, 3], [4, 5], 'hello']\n",
      "Shallow copy: [1, [8, 3], [4, 5], 'hello']\n",
      "Deep copy: [1, [2, 3], [4, 5], 'hello']\n"
     ]
    }
   ],
   "execution_count": 95
  },
  {
   "metadata": {
    "ExecuteTime": {
     "end_time": "2024-10-08T09:05:03.205666Z",
     "start_time": "2024-10-08T09:05:03.197887Z"
    }
   },
   "cell_type": "code",
   "source": [
    "print(\"Results\")\n",
    "print(\"-------\")\n",
    "\n",
    "orig = [1, [2, 3], 4, 5]\n",
    "orig_level0_copy = orig.copy() # would work as orig[:] as well\n",
    "orig_level0_copy[0] = 9\n",
    "orig_level0_copy[1][0] = 8\n",
    "print(\"Original:\", orig)\n",
    "print(\"Level 0 copy:\", orig_level0_copy)\n"
   ],
   "id": "1171e16c7dbdabbc",
   "outputs": [
    {
     "name": "stdout",
     "output_type": "stream",
     "text": [
      "Results\n",
      "-------\n",
      "Original: [1, [8, 3], 4, 5]\n",
      "Level 0 copy: [9, [8, 3], 4, 5]\n"
     ]
    }
   ],
   "execution_count": 109
  },
  {
   "metadata": {
    "ExecuteTime": {
     "end_time": "2024-10-08T06:00:00.027897Z",
     "start_time": "2024-10-08T06:00:00.024243Z"
    }
   },
   "cell_type": "code",
   "source": [
    "l=[1,[2,5],3,4]\n",
    "m=l[:]\n",
    "m[0]=5\n",
    "m[1][0]=17\n",
    "print(l)\n",
    "print(m)"
   ],
   "id": "c40a44fb21355a37",
   "outputs": [
    {
     "name": "stdout",
     "output_type": "stream",
     "text": [
      "[1, [17, 5], 3, 4]\n",
      "[5, [17, 5], 3, 4]\n"
     ]
    }
   ],
   "execution_count": 101
  },
  {
   "metadata": {
    "ExecuteTime": {
     "end_time": "2024-10-08T08:54:49.100553Z",
     "start_time": "2024-10-08T08:54:49.077868Z"
    }
   },
   "cell_type": "code",
   "source": [
    "print(\"Results\")\n",
    "print(\"-------\")\n",
    "p1 = [1,[2,3],4]\n",
    "p_copy = p1\n",
    "p1[0] = 5\n",
    "p1[1][0] = 17\n",
    "print(\"p1 = \", p1)\n",
    "print(\"p_copy = \",p_copy)\n",
    "\n",
    "import copy\n",
    "p2 = [1,[2,3],4]\n",
    "p2_deep = copy.deepcopy(p2)\n",
    "p2[0] = 5\n",
    "p2[1][0] = 17\n",
    "print(\"p2 = \", p2)\n",
    "print(\"p2_deep = \",p2_deep)\n",
    "\n"
   ],
   "id": "3deb3cdc75b0730a",
   "outputs": [
    {
     "name": "stdout",
     "output_type": "stream",
     "text": [
      "Results\n",
      "-------\n",
      "p1 =  [5, [17, 3], 4]\n",
      "p_copy =  [5, [17, 3], 4]\n",
      "p2 =  [5, [17, 3], 4]\n",
      "p2_deep =  [1, [2, 3], 4]\n"
     ]
    }
   ],
   "execution_count": 108
  },
  {
   "metadata": {
    "ExecuteTime": {
     "end_time": "2024-10-08T09:16:00.269243Z",
     "start_time": "2024-10-08T09:16:00.260568Z"
    }
   },
   "cell_type": "code",
   "source": [
    "print(\"Results\")\n",
    "print(\"-------\")\n",
    "\n",
    "# No list comprehension initialization\n",
    "my_vec = []\n",
    "for i in range(5):\n",
    "    my_vec.append(0)\n",
    "print(\"my_vec:\", my_vec)\n",
    "\n",
    "# List comprehension initialization\n",
    "my_vec = [0 for i in range(5)]\n",
    "print(\"my_vec:\", my_vec)\n",
    "\n",
    "# No list comprehension\n",
    "numbers = [1, 2, 3, 4, 5]\n",
    "squares = []\n",
    "for x in numbers:\n",
    "    squares.append(x**2)\n",
    "print(\"squares:\", squares)\n",
    "\n",
    "# List comprehension\n",
    "numbers = [1, 2, 3, 4, 5]\n",
    "squares = [x**2 for x in numbers]\n",
    "print(\"squares:\", squares)\n",
    "\n",
    "# No list comprehension with condition\n",
    "evens = []\n",
    "for x in range(6):\n",
    "    if x % 2 == 0:\n",
    "        evens.append(x)\n",
    "print(\"evens:\", evens)  \n",
    "\n",
    "# List comprehension with condition\n",
    "evens = [x for x in range(6) if x % 2 == 0]\n",
    "print(\"evens:\", evens)\n"
   ],
   "id": "723a2ea8edc9bd29",
   "outputs": [
    {
     "name": "stdout",
     "output_type": "stream",
     "text": [
      "Results\n",
      "-------\n",
      "my_vec: [0, 0, 0, 0, 0]\n",
      "my_vec: [0, 0, 0, 0, 0]\n",
      "squares: [1, 4, 9, 16, 25]\n",
      "squares: [1, 4, 9, 16, 25]\n",
      "evens: [0, 2, 4]\n",
      "evens: [0, 2, 4]\n"
     ]
    }
   ],
   "execution_count": 113
  },
  {
   "metadata": {
    "ExecuteTime": {
     "end_time": "2024-10-08T09:21:47.688994Z",
     "start_time": "2024-10-08T09:21:47.685265Z"
    }
   },
   "cell_type": "code",
   "source": "",
   "id": "24aa25ab0ae13d40",
   "outputs": [],
   "execution_count": 114
  },
  {
   "metadata": {
    "ExecuteTime": {
     "end_time": "2024-10-08T09:21:51.336009Z",
     "start_time": "2024-10-08T09:21:51.328481Z"
    }
   },
   "cell_type": "code",
   "source": "\n",
   "id": "b41a8e3864c23bbf",
   "outputs": [
    {
     "data": {
      "text/plain": [
       "'hellobye'"
      ]
     },
     "execution_count": 115,
     "metadata": {},
     "output_type": "execute_result"
    }
   ],
   "execution_count": 115
  },
  {
   "metadata": {
    "ExecuteTime": {
     "end_time": "2024-10-08T09:28:42.138841Z",
     "start_time": "2024-10-08T09:28:42.129361Z"
    }
   },
   "cell_type": "code",
   "source": [
    "# Single quotes\n",
    "single_quoted = 'Hello, World!'\n",
    "print(single_quoted)\n",
    "print()\n",
    "# Double quotes\n",
    "double_quoted = \"Python is great\"\n",
    "print(double_quoted)\n",
    "print()\n",
    "# Triple quotes for multi-line strings\n",
    "multi_line = '''This is a\n",
    "multi-line\n",
    "string'''\n",
    "print(multi_line)\n",
    "\n",
    "# Triple double quotes\n",
    "another_multi_line = \"\"\"\n",
    "It can also be done\n",
    "with double quotes\n",
    "\"\"\"\n",
    "print(another_multi_line)"
   ],
   "id": "e026a7ffde81d9c5",
   "outputs": [
    {
     "name": "stdout",
     "output_type": "stream",
     "text": [
      "Hello, World!\n",
      "\n",
      "Python is great\n",
      "\n",
      "This is a\n",
      "multi-line\n",
      "string\n",
      "\n",
      "It can also be done\n",
      "with double quotes\n",
      "\n"
     ]
    }
   ],
   "execution_count": 118
  },
  {
   "metadata": {
    "ExecuteTime": {
     "end_time": "2024-10-08T09:31:33.113953Z",
     "start_time": "2024-10-08T09:31:33.107961Z"
    }
   },
   "cell_type": "code",
   "source": [
    "p1 = [1,2,3]\n",
    "print(\"len(p1) = \", len(p1))\n",
    "\n",
    "p2 = []\n",
    "print(\"len(p2) = \", len(p2))\n",
    "\n",
    "p3 = [[1,2,3],[4,5,6]]\n",
    "print(\"len(p3) = \", len(p3))"
   ],
   "id": "7dd569c560a6ae65",
   "outputs": [
    {
     "name": "stdout",
     "output_type": "stream",
     "text": [
      "len(p1) =  3\n",
      "len(p2) =  0\n",
      "len(p3) =  2\n"
     ]
    }
   ],
   "execution_count": 119
  },
  {
   "metadata": {
    "ExecuteTime": {
     "end_time": "2024-10-08T09:35:40.978432Z",
     "start_time": "2024-10-08T09:35:40.969263Z"
    }
   },
   "cell_type": "code",
   "source": [
    "my_list = [0,5,[0,-17]]\n",
    "for i in range(len(my_list)):\n",
    "    print(my_list[i])"
   ],
   "id": "36b6a8133afb7c1",
   "outputs": [
    {
     "name": "stdout",
     "output_type": "stream",
     "text": [
      "0\n",
      "5\n",
      "[0, -17]\n"
     ]
    }
   ],
   "execution_count": 128
  },
  {
   "metadata": {
    "ExecuteTime": {
     "end_time": "2024-10-08T09:47:53.151990Z",
     "start_time": "2024-10-08T09:47:53.148508Z"
    }
   },
   "cell_type": "code",
   "source": [
    "my_list = [0,5,-17]\n",
    "for x in my_list:\n",
    "    x = x + 1\n",
    "print (my_list)"
   ],
   "id": "7446b834bfe33115",
   "outputs": [
    {
     "name": "stdout",
     "output_type": "stream",
     "text": [
      "[0, 5, -17]\n"
     ]
    }
   ],
   "execution_count": 131
  },
  {
   "metadata": {
    "ExecuteTime": {
     "end_time": "2024-10-08T15:32:08.815381Z",
     "start_time": "2024-10-08T15:32:08.783276Z"
    }
   },
   "cell_type": "code",
   "source": [
    "# Regular string\n",
    "regular = \"Hello\\nWorld\\t!\"\n",
    "print(\"Regular string:\")\n",
    "print(regular)\n",
    "\n",
    "# Raw string\n",
    "raw = r\"Hello\\nWorld\\t!\"\n",
    "print(\"\\nRaw string:\")\n",
    "print(raw)\n",
    "\n",
    "# Byte string\n",
    "byte = b\"Hello World!\"\n",
    "print(\"\\nByte string:\")\n",
    "print(byte)\n",
    "print(byte[0])  # Prints the ASCII value of 'H'\n",
    "\n",
    "# Regular string with unicode\n",
    "unicode_regular = \"Python is 🐍\"\n",
    "print(\"\\nRegular string with unicode:\")\n",
    "print(unicode_regular)\n",
    "\n",
    "# Byte string can't contain non-ASCII characters directly\n",
    "try:\n",
    "    byte_unicode = b\"Python is 🐍\"\n",
    "except SyntaxError as e:\n",
    "    print(\"\\nByte string with unicode attempt:\")\n",
    "    print(f\"SyntaxError: {e}\")\n",
    "\n",
    "# Converting between regular and byte strings\n",
    "regular_from_byte = byte.decode('utf-8')\n",
    "byte_from_regular = unicode_regular.encode('utf-8')\n",
    "\n",
    "print(\"\\nConverted strings:\")\n",
    "print(f\"Regular from byte: {regular_from_byte}\")\n",
    "print(f\"Byte from regular: {byte_from_regular}\")"
   ],
   "id": "8172fb267a45cd52",
   "outputs": [
    {
     "ename": "SyntaxError",
     "evalue": "bytes can only contain ASCII literal characters (1537047114.py, line 24)",
     "output_type": "error",
     "traceback": [
      "\u001B[0;36m  Cell \u001B[0;32mIn[132], line 24\u001B[0;36m\u001B[0m\n\u001B[0;31m    byte_unicode = b\"Python is 🐍\"\u001B[0m\n\u001B[0m                   ^\u001B[0m\n\u001B[0;31mSyntaxError\u001B[0m\u001B[0;31m:\u001B[0m bytes can only contain ASCII literal characters\n"
     ]
    }
   ],
   "execution_count": 132
  },
  {
   "metadata": {
    "ExecuteTime": {
     "end_time": "2024-10-08T19:16:01.226561Z",
     "start_time": "2024-10-08T19:16:01.222998Z"
    }
   },
   "cell_type": "code",
   "source": [
    "print(\"Results\")\n",
    "print(\"-------\")\n",
    "\n",
    "regular_string_wrong = \"c:\\path\\to\\file\"\n",
    "regular_string_correct = \"c:\\\\path\\\\to\\\\file\"\n",
    "print(regular_string_wrong)\n",
    "print(regular_string_correct)\n",
    "\n",
    "raw_string = r\"c:\\path\\to\\file\"\n",
    "print(raw_string)\n",
    "\n"
   ],
   "id": "7419bf2910f565ed",
   "outputs": [
    {
     "name": "stdout",
     "output_type": "stream",
     "text": [
      "Results\n",
      "-------\n",
      "c:\\path\to\file\n",
      "c:\\path\\to\\file\n",
      "c:\\path\\to\\file\n"
     ]
    },
    {
     "name": "stderr",
     "output_type": "stream",
     "text": [
      "<>:4: SyntaxWarning: invalid escape sequence '\\p'\n",
      "<>:4: SyntaxWarning: invalid escape sequence '\\p'\n",
      "/var/folders/4v/xzs4_k713q54rmt86bcq00rw0000gp/T/ipykernel_2560/2305430866.py:4: SyntaxWarning: invalid escape sequence '\\p'\n",
      "  regular_string_wrong = \"c:\\path\\to\\file\"\n"
     ]
    }
   ],
   "execution_count": 35
  },
  {
   "metadata": {
    "ExecuteTime": {
     "end_time": "2024-10-09T08:16:54.652330Z",
     "start_time": "2024-10-09T08:16:54.648151Z"
    }
   },
   "cell_type": "code",
   "source": [
    "text = \"\"\"\n",
    "device = ETH0123, ip=192.168.1.122, status=UP\n",
    "system=MMI301U, ip=192.168.1.123, status=DOWN\n",
    "device=ETH0124, ip=192.168.1.212, status=UP\n",
    "router=RT01, ip=192.168.1.191, status=UP\n",
    "\"\"\"\n",
    "\n",
    "import re\n",
    "regexp = r'(?:device\\s*=\\s*|system\\s*=\\s*)([0-9A-Z]+)\\s*,'\n",
    "re.findall(regexp,text)"
   ],
   "id": "e34158837a912d6f",
   "outputs": [
    {
     "data": {
      "text/plain": [
       "['ETH0123', 'MMI301U', 'ETH0124']"
      ]
     },
     "execution_count": 74,
     "metadata": {},
     "output_type": "execute_result"
    }
   ],
   "execution_count": 74
  },
  {
   "metadata": {
    "ExecuteTime": {
     "end_time": "2024-10-08T16:01:20.660187Z",
     "start_time": "2024-10-08T16:01:20.656781Z"
    }
   },
   "cell_type": "code",
   "source": "",
   "id": "d7b38605036a829c",
   "outputs": [
    {
     "name": "stdout",
     "output_type": "stream",
     "text": [
      "[5, 2, 3]\n"
     ]
    }
   ],
   "execution_count": 3
  },
  {
   "metadata": {},
   "cell_type": "code",
   "outputs": [],
   "execution_count": null,
   "source": "",
   "id": "e866b1ef75dc78ee"
  },
  {
   "metadata": {
    "ExecuteTime": {
     "end_time": "2024-10-08T19:45:59.737323Z",
     "start_time": "2024-10-08T19:45:59.732332Z"
    }
   },
   "cell_type": "code",
   "source": [
    "print(\"Results\")\n",
    "print(\"-------\")\n",
    "\n",
    "name = \"Alice\"\n",
    "age = 30\n",
    "print(f\"My name is {name} and I'm {age} years old.\")\n",
    "\n",
    "# Simple arithmetic\n",
    "x = 10\n",
    "y = 5\n",
    "print(f\"{x} plus {y} equals {x + y}\")\n",
    "\n",
    "#fibonacci series\n",
    "fib = [0 for x in range(20)]\n",
    "fib[0] = 1\n",
    "fib[1] = 1\n",
    "for i in range(2,20):\n",
    "    fib[i] = fib[i-1] + fib[i-2]\n",
    "    \n",
    "for i in range(15,20):\n",
    "    print(f\"fib[{i}] = {fib[i]:,}\")\n",
    "\n",
    "#percentage formatting\n",
    "print(f\"6 is {6/20:.2%} of 20\")\n",
    "\n",
    "import math\n",
    "e = math.e\n",
    "print(f\"e = {e:.5f}\")\n",
    "print(f\"e**5 = {e**5:.3e}\")\n",
    "\n",
    "print(f\"c={299792458:.4e} m/s is the speed of light\")\n"
   ],
   "id": "d574ee6e5b80517",
   "outputs": [
    {
     "name": "stdout",
     "output_type": "stream",
     "text": [
      "My name is Alice and I'm 30 years old.\n",
      "10 plus 5 equals 15\n",
      "fib[15] = 987\n",
      "fib[16] = 1,597\n",
      "fib[17] = 2,584\n",
      "fib[18] = 4,181\n",
      "fib[19] = 6,765\n",
      "6 is 30.00% of 20\n",
      "e = 2.71828\n",
      "e**5 = 1.484e+02\n",
      "c=2.9979e+08 m/s is the speed of light\n"
     ]
    }
   ],
   "execution_count": 68
  },
  {
   "metadata": {
    "ExecuteTime": {
     "end_time": "2024-10-08T19:44:52.204066Z",
     "start_time": "2024-10-08T19:44:52.201151Z"
    }
   },
   "cell_type": "code",
   "source": "print(f\"c={299792458:.4e} m/s is the speed of light\")\n",
   "id": "7c2608d881c9c6e8",
   "outputs": [
    {
     "name": "stdout",
     "output_type": "stream",
     "text": [
      "c=2.9979e+08 m/s is the speed of light\n"
     ]
    }
   ],
   "execution_count": 65
  },
  {
   "metadata": {
    "ExecuteTime": {
     "end_time": "2024-10-08T16:14:44.904373Z",
     "start_time": "2024-10-08T16:14:44.898915Z"
    }
   },
   "cell_type": "code",
   "source": "[0] ",
   "id": "80040c3a8222d03b",
   "outputs": [
    {
     "data": {
      "text/plain": [
       "[0, 0, 0, 0, 0, 0]"
      ]
     },
     "execution_count": 12,
     "metadata": {},
     "output_type": "execute_result"
    }
   ],
   "execution_count": 12
  },
  {
   "metadata": {
    "ExecuteTime": {
     "end_time": "2024-10-08T16:19:17.260988Z",
     "start_time": "2024-10-08T16:19:17.257113Z"
    }
   },
   "cell_type": "code",
   "source": "",
   "id": "b15b74a2abe38a88",
   "outputs": [
    {
     "data": {
      "text/plain": [
       "'apple banana cherry'"
      ]
     },
     "execution_count": 14,
     "metadata": {},
     "output_type": "execute_result"
    }
   ],
   "execution_count": 14
  },
  {
   "metadata": {
    "ExecuteTime": {
     "end_time": "2024-10-08T16:39:29.157180Z",
     "start_time": "2024-10-08T16:39:29.154987Z"
    }
   },
   "cell_type": "code",
   "source": "",
   "id": "aae184721e0a2d16",
   "outputs": [],
   "execution_count": 30
  },
  {
   "metadata": {
    "ExecuteTime": {
     "end_time": "2024-10-08T16:39:30.462887Z",
     "start_time": "2024-10-08T16:39:30.461084Z"
    }
   },
   "cell_type": "code",
   "source": "",
   "id": "41d8b82acad3c448",
   "outputs": [],
   "execution_count": null
  },
  {
   "metadata": {
    "ExecuteTime": {
     "end_time": "2024-10-08T16:39:31.532425Z",
     "start_time": "2024-10-08T16:39:31.530461Z"
    }
   },
   "cell_type": "code",
   "source": "",
   "id": "f6689858144314ee",
   "outputs": [],
   "execution_count": null
  },
  {
   "metadata": {
    "ExecuteTime": {
     "end_time": "2024-10-08T16:39:32.138306Z",
     "start_time": "2024-10-08T16:39:32.136422Z"
    }
   },
   "cell_type": "code",
   "source": "",
   "id": "44913260acd01574",
   "outputs": [],
   "execution_count": null
  },
  {
   "metadata": {
    "ExecuteTime": {
     "end_time": "2024-10-08T16:39:32.749454Z",
     "start_time": "2024-10-08T16:39:32.747555Z"
    }
   },
   "cell_type": "code",
   "source": "",
   "id": "a116c45d8228ef0d",
   "outputs": [],
   "execution_count": null
  },
  {
   "metadata": {},
   "cell_type": "code",
   "outputs": [],
   "execution_count": null,
   "source": "",
   "id": "29d8d4083cae974e"
  }
 ],
 "metadata": {
  "kernelspec": {
   "display_name": "Python 3",
   "language": "python",
   "name": "python3"
  },
  "language_info": {
   "codemirror_mode": {
    "name": "ipython",
    "version": 2
   },
   "file_extension": ".py",
   "mimetype": "text/x-python",
   "name": "python",
   "nbconvert_exporter": "python",
   "pygments_lexer": "ipython2",
   "version": "2.7.6"
  }
 },
 "nbformat": 4,
 "nbformat_minor": 5
}
